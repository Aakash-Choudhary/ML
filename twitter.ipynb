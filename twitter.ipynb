{
 "cells": [
  {
   "cell_type": "code",
   "execution_count": 8,
   "metadata": {},
   "outputs": [],
   "source": [
    "import tweepy"
   ]
  },
  {
   "cell_type": "code",
   "execution_count": 17,
   "metadata": {},
   "outputs": [],
   "source": [
    "import matplotlib.pyplot as plt\n",
    "from textblob import TextBlob\n",
    "import time"
   ]
  },
  {
   "cell_type": "code",
   "execution_count": 23,
   "metadata": {},
   "outputs": [],
   "source": [
    "#all four authentication keys to access twitter API\n",
    "#to connect as OATH handler or jump server  /n reverse proxy  server\n",
    "consumer_key='6pbgsEZkjhIv0k09XPnXpfgbW'\n",
    "consumer_sec='po6NAF1jXqIMQgMiWdhSPq50srwE0ksOYyAEOPoMNdp1k8s063'\n",
    "#from proxy server we need to connect web server of twitter\n",
    "access_token='769803334106619904-kPG8pmNg20N9DY5GFV5xbhZbzfeHhIf'\n",
    "access_sec='HQ3agnUvdofsN39mmwCllSJMAFlcrSyzgPJhzFeRNsHaw'\n",
    "\n"
   ]
  },
  {
   "cell_type": "code",
   "execution_count": 24,
   "metadata": {},
   "outputs": [],
   "source": [
    "#connecting to jump server of twitter\n",
    "auth=tweepy.OAuthHandler(consumer_key,consumer_sec)"
   ]
  },
  {
   "cell_type": "code",
   "execution_count": 25,
   "metadata": {},
   "outputs": [],
   "source": [
    "#now wecan connect from jump server to web server\n",
    "auth.set_access_token(access_token,access_sec)"
   ]
  },
  {
   "cell_type": "code",
   "execution_count": 26,
   "metadata": {},
   "outputs": [],
   "source": [
    "#now we can connect to API storage dserver of twitter\n",
    "api_connect=tweepy.API(auth)"
   ]
  },
  {
   "cell_type": "code",
   "execution_count": 27,
   "metadata": {},
   "outputs": [],
   "source": [
    "#now you can search any topic on twitter\n",
    "tweet_data=api_connect.search('modi',count=30)"
   ]
  },
  {
   "cell_type": "code",
   "execution_count": 31,
   "metadata": {},
   "outputs": [
    {
     "name": "stdout",
     "output_type": "stream",
     "text": [
      "Sentiment(polarity=0.5, subjectivity=0.5)\n",
      "positive\n",
      "Sentiment(polarity=0.18333333333333335, subjectivity=0.46666666666666673)\n",
      "positive\n",
      "Sentiment(polarity=0.1875, subjectivity=0.3125)\n",
      "positive\n",
      "Sentiment(polarity=0.5, subjectivity=0.65)\n",
      "positive\n",
      "Sentiment(polarity=0.03333333333333333, subjectivity=0.06666666666666667)\n",
      "positive\n",
      "Sentiment(polarity=0.0, subjectivity=0.0)\n",
      "neutral\n",
      "Sentiment(polarity=0.0, subjectivity=0.0)\n",
      "neutral\n",
      "Sentiment(polarity=0.175, subjectivity=0.275)\n",
      "positive\n",
      "Sentiment(polarity=0.0, subjectivity=0.0)\n",
      "neutral\n"
     ]
    },
    {
     "data": {
      "image/png": "[encoded data removed]",
      "text/plain": [
       "<Figure size 432x288 with 1 Axes>"
      ]
     },
     "metadata": {},
     "output_type": "display_data"
    }
   ],
   "source": [
    "pos=0\n",
    "neu=0\n",
    "neg=0\n",
    "#print line by line \n",
    "for tweet in tweet_data:\n",
    "    #print(tweet.text)\n",
    "    analysis=TextBlob(tweet.text) #here it will apply NLP\n",
    "    print(analysis.sentiment)\n",
    "    #now checking polarity only\n",
    "    if analysis.sentiment.polarity > 0 :\n",
    "        print(\"positive\")\n",
    "        pos=pos+1\n",
    "    elif analysis.sentiment.polarity == 0 :\n",
    "        print(\"neutral\")\n",
    "        neu=neu+1\n",
    "    else :\n",
    "        print(\"negative\")\n",
    "        neg=neg+1\n",
    "        \n",
    "#plotting graphs\n",
    "#plt.xlabel(\"tags\")\n",
    "#plt.ylabel(\"polarity\")\n",
    "#plt.bar(['pos','neg','neu'],[pos,neg,neu])\n",
    "plt.pie([pos,neg,neu],labels=[\"pos\",\"neg\",\"neu\"],autopct=\"%1.1f%%\")\n",
    "plt.show()"
   ]
  },
  {
   "cell_type": "code",
   "execution_count": null,
   "metadata": {},
   "outputs": [],
   "source": []
  },
  {
   "cell_type": "code",
   "execution_count": null,
   "metadata": {},
   "outputs": [],
   "source": []
  }
 ],
 "metadata": {
  "kernelspec": {
   "display_name": "Python 3",
   "language": "python",
   "name": "python3"
  },
  "language_info": {
   "codemirror_mode": {
    "name": "ipython",
    "version": 3
   },
   "file_extension": ".py",
   "mimetype": "text/x-python",
   "name": "python",
   "nbconvert_exporter": "python",
   "pygments_lexer": "ipython3",
   "version": "3.6.8"
  }
 },
 "nbformat": 4,
 "nbformat_minor": 2
}
