{
  "nbformat": 4,
  "nbformat_minor": 0,
  "metadata": {
    "colab": {
      "name": "MPL.ipynb",
      "version": "0.3.2",
      "provenance": []
    },
    "kernelspec": {
      "name": "python3",
      "display_name": "Python 3"
    }
  },
  "cells": [
    {
      "cell_type": "code",
      "metadata": {
        "id": "j51QZHLCVXRa",
        "colab_type": "code",
        "colab": {}
      },
      "source": [
        "import matplotlib"
      ],
      "execution_count": 0,
      "outputs": []
    },
    {
      "cell_type": "code",
      "metadata": {
        "id": "MMFlJAFUVal7",
        "colab_type": "code",
        "colab": {}
      },
      "source": [
        ""
      ],
      "execution_count": 0,
      "outputs": []
    },
    {
      "cell_type": "code",
      "metadata": {
        "id": "hKm9jf_KVcxP",
        "colab_type": "code",
        "colab": {}
      },
      "source": [
        "del matplotlib"
      ],
      "execution_count": 0,
      "outputs": []
    },
    {
      "cell_type": "code",
      "metadata": {
        "id": "CiG89zA1VeH8",
        "colab_type": "code",
        "colab": {}
      },
      "source": [
        "import matplotlib"
      ],
      "execution_count": 0,
      "outputs": []
    },
    {
      "cell_type": "code",
      "metadata": {
        "id": "ALq6Id0AURrl",
        "colab_type": "code",
        "colab": {}
      },
      "source": [
        "del matplotlib"
      ],
      "execution_count": 0,
      "outputs": []
    },
    {
      "cell_type": "code",
      "metadata": {
        "id": "9ui3214MUTV2",
        "colab_type": "code",
        "colab": {
          "base_uri": "https://localhost:8080/",
          "height": 283
        },
        "outputId": "85f36b11-507c-409c-a1b8-88d59c1364a4"
      },
      "source": [
        "import matplotlib.pyplot as plt\n",
        "#only loading python oriented library\n",
        "x=[2,3]\n",
        "y=[9,5]\n",
        "x1=[4,3,8]\n",
        "y1=[2,9,7]\n",
        "\n",
        "plt.xlabel(\"time\")\n",
        "plt.ylabel(\"speed\")\n",
        "plt.grid(color='green') #to form grid\n",
        "plt.plot(x,y,label=\"water\") #to plot the graph\n",
        "plt.plot(x1,y1,label=\"sand\")\n",
        "plt.bar(x1,y1,label=\"sand\") #to plot bar\n",
        "plt.bar(x,y,label=\"water\") #to plot bar graphs\n",
        "plt.legend() #to show labels with plot\n",
        "plt.xlim(0,12) #to show min and max limit of x axis\n",
        "plt.ylim(0,15)##to show min and max limit of y axis\n",
        "plt.show()"
      ],
      "execution_count": 30,
      "outputs": [
        {
          "output_type": "display_data",
          "data": {
            "image/png": "[encoded data removed]",
            "text/plain": [
              "<Figure size 432x288 with 1 Axes>"
            ]
          },
          "metadata": {
            "tags": []
          }
        }
      ]
    },
    {
      "cell_type": "code",
      "metadata": {
        "id": "KIyy8rffUdNK",
        "colab_type": "code",
        "colab": {}
      },
      "source": [
        "player=[\"kohli\",\"dhoni\",\"pandya\"]"
      ],
      "execution_count": 0,
      "outputs": []
    },
    {
      "cell_type": "code",
      "metadata": {
        "id": "pbpk6hY_Zhp6",
        "colab_type": "code",
        "colab": {}
      },
      "source": [
        "runs=[122,75,43]"
      ],
      "execution_count": 0,
      "outputs": []
    },
    {
      "cell_type": "code",
      "metadata": {
        "id": "PEAfUJsSZl0n",
        "colab_type": "code",
        "colab": {}
      },
      "source": [
        ""
      ],
      "execution_count": 0,
      "outputs": []
    }
  ]
}